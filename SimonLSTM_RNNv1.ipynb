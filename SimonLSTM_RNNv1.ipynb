{
 "cells": [
  {
   "cell_type": "code",
   "execution_count": 1,
   "metadata": {},
   "outputs": [],
   "source": [
    "# Part 1 - Data Preprocessing\n",
    "\n",
    "# Importing the libraries\n",
    "import numpy as np\n",
    "import matplotlib.pyplot as plt\n",
    "import pandas as pd"
   ]
  },
  {
   "cell_type": "code",
   "execution_count": 2,
   "metadata": {},
   "outputs": [
    {
     "data": {
      "text/plain": [
       "Date              2469\n",
       "Open              2469\n",
       "High              2469\n",
       "Low               2469\n",
       "Close             2469\n",
       "Adj Close         2469\n",
       "Volume            2469\n",
       "Daily Returns     2469\n",
       "50 Day MA         2469\n",
       "Upper             2469\n",
       "Lower             2469\n",
       "Trading Signal    2469\n",
       "Entry/Exit        2469\n",
       "dtype: int64"
      ]
     },
     "execution_count": 2,
     "metadata": {},
     "output_type": "execute_result"
    }
   ],
   "source": [
    "# Importing the training set\n",
    "dataset = pd.read_csv('MSFT_df.csv')\n",
    "dataset.count()\n"
   ]
  },
  {
   "cell_type": "code",
   "execution_count": 3,
   "metadata": {},
   "outputs": [
    {
     "data": {
      "text/html": [
       "<div>\n",
       "<style scoped>\n",
       "    .dataframe tbody tr th:only-of-type {\n",
       "        vertical-align: middle;\n",
       "    }\n",
       "\n",
       "    .dataframe tbody tr th {\n",
       "        vertical-align: top;\n",
       "    }\n",
       "\n",
       "    .dataframe thead th {\n",
       "        text-align: right;\n",
       "    }\n",
       "</style>\n",
       "<table border=\"1\" class=\"dataframe\">\n",
       "  <thead>\n",
       "    <tr style=\"text-align: right;\">\n",
       "      <th></th>\n",
       "      <th>Date</th>\n",
       "      <th>Open</th>\n",
       "      <th>High</th>\n",
       "      <th>Low</th>\n",
       "      <th>Close</th>\n",
       "      <th>Adj Close</th>\n",
       "      <th>Volume</th>\n",
       "      <th>Daily Returns</th>\n",
       "      <th>50 Day MA</th>\n",
       "      <th>Upper</th>\n",
       "      <th>Lower</th>\n",
       "      <th>Trading Signal</th>\n",
       "      <th>Entry/Exit</th>\n",
       "    </tr>\n",
       "  </thead>\n",
       "  <tbody>\n",
       "    <tr>\n",
       "      <th>0</th>\n",
       "      <td>2011-02-10</td>\n",
       "      <td>27.930000</td>\n",
       "      <td>27.940001</td>\n",
       "      <td>27.290001</td>\n",
       "      <td>27.500000</td>\n",
       "      <td>21.864422</td>\n",
       "      <td>76672400</td>\n",
       "      <td>-0.016804</td>\n",
       "      <td>27.9144</td>\n",
       "      <td>28.636182</td>\n",
       "      <td>26.778219</td>\n",
       "      <td>1.0</td>\n",
       "      <td>1.0</td>\n",
       "    </tr>\n",
       "    <tr>\n",
       "      <th>1</th>\n",
       "      <td>2011-02-11</td>\n",
       "      <td>27.760000</td>\n",
       "      <td>27.809999</td>\n",
       "      <td>27.070000</td>\n",
       "      <td>27.250000</td>\n",
       "      <td>21.665649</td>\n",
       "      <td>83939700</td>\n",
       "      <td>-0.009091</td>\n",
       "      <td>27.9386</td>\n",
       "      <td>28.268699</td>\n",
       "      <td>26.919901</td>\n",
       "      <td>1.0</td>\n",
       "      <td>0.0</td>\n",
       "    </tr>\n",
       "    <tr>\n",
       "      <th>2</th>\n",
       "      <td>2011-02-14</td>\n",
       "      <td>27.209999</td>\n",
       "      <td>27.270000</td>\n",
       "      <td>26.950001</td>\n",
       "      <td>27.230000</td>\n",
       "      <td>21.649748</td>\n",
       "      <td>56766200</td>\n",
       "      <td>-0.000734</td>\n",
       "      <td>27.9454</td>\n",
       "      <td>28.224377</td>\n",
       "      <td>26.951022</td>\n",
       "      <td>1.0</td>\n",
       "      <td>0.0</td>\n",
       "    </tr>\n",
       "    <tr>\n",
       "      <th>3</th>\n",
       "      <td>2011-02-15</td>\n",
       "      <td>27.040001</td>\n",
       "      <td>27.330000</td>\n",
       "      <td>26.950001</td>\n",
       "      <td>26.959999</td>\n",
       "      <td>21.561775</td>\n",
       "      <td>44116500</td>\n",
       "      <td>-0.009916</td>\n",
       "      <td>27.9442</td>\n",
       "      <td>27.959069</td>\n",
       "      <td>26.945130</td>\n",
       "      <td>1.0</td>\n",
       "      <td>0.0</td>\n",
       "    </tr>\n",
       "    <tr>\n",
       "      <th>4</th>\n",
       "      <td>2011-02-16</td>\n",
       "      <td>27.049999</td>\n",
       "      <td>27.070000</td>\n",
       "      <td>26.600000</td>\n",
       "      <td>27.020000</td>\n",
       "      <td>21.609766</td>\n",
       "      <td>70817900</td>\n",
       "      <td>0.002226</td>\n",
       "      <td>27.9478</td>\n",
       "      <td>28.004014</td>\n",
       "      <td>26.963787</td>\n",
       "      <td>1.0</td>\n",
       "      <td>0.0</td>\n",
       "    </tr>\n",
       "  </tbody>\n",
       "</table>\n",
       "</div>"
      ],
      "text/plain": [
       "         Date       Open       High        Low      Close  Adj Close  \\\n",
       "0  2011-02-10  27.930000  27.940001  27.290001  27.500000  21.864422   \n",
       "1  2011-02-11  27.760000  27.809999  27.070000  27.250000  21.665649   \n",
       "2  2011-02-14  27.209999  27.270000  26.950001  27.230000  21.649748   \n",
       "3  2011-02-15  27.040001  27.330000  26.950001  26.959999  21.561775   \n",
       "4  2011-02-16  27.049999  27.070000  26.600000  27.020000  21.609766   \n",
       "\n",
       "     Volume  Daily Returns  50 Day MA      Upper      Lower  Trading Signal  \\\n",
       "0  76672400      -0.016804    27.9144  28.636182  26.778219             1.0   \n",
       "1  83939700      -0.009091    27.9386  28.268699  26.919901             1.0   \n",
       "2  56766200      -0.000734    27.9454  28.224377  26.951022             1.0   \n",
       "3  44116500      -0.009916    27.9442  27.959069  26.945130             1.0   \n",
       "4  70817900       0.002226    27.9478  28.004014  26.963787             1.0   \n",
       "\n",
       "   Entry/Exit  \n",
       "0         1.0  \n",
       "1         0.0  \n",
       "2         0.0  \n",
       "3         0.0  \n",
       "4         0.0  "
      ]
     },
     "execution_count": 3,
     "metadata": {},
     "output_type": "execute_result"
    }
   ],
   "source": [
    "# splitting dataframe by row index \n",
    "df_1 = dataset.iloc[:1728,:] \n",
    "df_2 = dataset.iloc[1729:,:]\n",
    "\n",
    "df_1.head()"
   ]
  },
  {
   "cell_type": "code",
   "execution_count": 4,
   "metadata": {},
   "outputs": [
    {
     "data": {
      "text/plain": [
       "array([[27.93000031],\n",
       "       [27.76000023],\n",
       "       [27.20999908],\n",
       "       ...,\n",
       "       [87.12000275],\n",
       "       [86.34999847],\n",
       "       [86.19999695]])"
      ]
     },
     "execution_count": 4,
     "metadata": {},
     "output_type": "execute_result"
    }
   ],
   "source": [
    "training_set = df_1.iloc[:, 1:2].values\n",
    "training_set"
   ]
  },
  {
   "cell_type": "code",
   "execution_count": 5,
   "metadata": {},
   "outputs": [],
   "source": [
    "# Feature Scaling\n",
    "from sklearn.preprocessing import MinMaxScaler\n",
    "sc = MinMaxScaler(feature_range = (0, 1))\n",
    "training_set_scaled = sc.fit_transform(training_set)\n",
    "\n",
    "X_train = []\n",
    "y_train = []\n",
    "for i in range(60,1728):\n",
    "    X_train.append(training_set_scaled[i-60:i, 0])\n",
    "    y_train.append(training_set_scaled[i, 0])\n",
    "X_train, y_train = np.array(X_train), np.array(y_train)"
   ]
  },
  {
   "cell_type": "code",
   "execution_count": 6,
   "metadata": {},
   "outputs": [],
   "source": [
    "# Reshaping\n",
    "X_train = np.reshape(X_train, (X_train.shape[0], X_train.shape[1], 1))"
   ]
  },
  {
   "cell_type": "code",
   "execution_count": 7,
   "metadata": {},
   "outputs": [],
   "source": [
    "# Part 2 - Building the RNN\n",
    "from tensorflow.keras.models import Sequential\n",
    "from tensorflow.keras.layers import LSTM, Dense, Dropout\n"
   ]
  },
  {
   "cell_type": "code",
   "execution_count": 8,
   "metadata": {},
   "outputs": [],
   "source": [
    "# Initialising the RNN\n",
    "regressor = Sequential()\n",
    "\n",
    "# Adding the first LSTM layer and some Dropout regularisation\n",
    "regressor.add(LSTM(units = 50, return_sequences = True, input_shape = (X_train.shape[1], 1)))\n",
    "regressor.add(Dropout(0.2))"
   ]
  },
  {
   "cell_type": "code",
   "execution_count": 9,
   "metadata": {},
   "outputs": [],
   "source": [
    "# Adding a second LSTM layer and some Dropout regularisation\n",
    "regressor.add(LSTM(units = 50, return_sequences = True))\n",
    "regressor.add(Dropout(0.2))"
   ]
  },
  {
   "cell_type": "code",
   "execution_count": 10,
   "metadata": {},
   "outputs": [],
   "source": [
    "# Adding a third LSTM layer and some Dropout regularisation\n",
    "regressor.add(LSTM(units = 50, return_sequences = True))\n",
    "regressor.add(Dropout(0.2))"
   ]
  },
  {
   "cell_type": "code",
   "execution_count": 11,
   "metadata": {},
   "outputs": [],
   "source": [
    "# Adding a fourth LSTM layer and some Dropout regularisation\n",
    "regressor.add(LSTM(units = 50))\n",
    "regressor.add(Dropout(0.2))"
   ]
  },
  {
   "cell_type": "code",
   "execution_count": 44,
   "metadata": {},
   "outputs": [
    {
     "name": "stdout",
     "output_type": "stream",
     "text": [
      "Epoch 1/100\n",
      "53/53 [==============================] - 7s 139ms/step - loss: 0.0179\n",
      "Epoch 2/100\n",
      "53/53 [==============================] - 8s 142ms/step - loss: 0.0026\n",
      "Epoch 3/100\n",
      "53/53 [==============================] - 8s 146ms/step - loss: 0.0025\n",
      "Epoch 4/100\n",
      "53/53 [==============================] - 8s 146ms/step - loss: 0.0025\n",
      "Epoch 5/100\n",
      "53/53 [==============================] - 8s 142ms/step - loss: 0.0024\n",
      "Epoch 6/100\n",
      "53/53 [==============================] - 8s 145ms/step - loss: 0.0022\n",
      "Epoch 7/100\n",
      "53/53 [==============================] - 8s 144ms/step - loss: 0.0021\n",
      "Epoch 8/100\n",
      "53/53 [==============================] - 8s 150ms/step - loss: 0.0022\n",
      "Epoch 9/100\n",
      "53/53 [==============================] - 8s 148ms/step - loss: 0.0022\n",
      "Epoch 10/100\n",
      "53/53 [==============================] - 8s 150ms/step - loss: 0.0022\n",
      "Epoch 11/100\n",
      "53/53 [==============================] - 8s 148ms/step - loss: 0.0018\n",
      "Epoch 12/100\n",
      "53/53 [==============================] - 8s 148ms/step - loss: 0.0019\n",
      "Epoch 13/100\n",
      "53/53 [==============================] - 8s 148ms/step - loss: 0.0017\n",
      "Epoch 14/100\n",
      "53/53 [==============================] - 8s 145ms/step - loss: 0.0023\n",
      "Epoch 15/100\n",
      "53/53 [==============================] - 7s 140ms/step - loss: 0.0020\n",
      "Epoch 16/100\n",
      "53/53 [==============================] - 8s 143ms/step - loss: 0.0016\n",
      "Epoch 17/100\n",
      "53/53 [==============================] - 8s 149ms/step - loss: 0.0019\n",
      "Epoch 18/100\n",
      "53/53 [==============================] - 8s 143ms/step - loss: 0.0014\n",
      "Epoch 19/100\n",
      "53/53 [==============================] - 8s 142ms/step - loss: 0.0016\n",
      "Epoch 20/100\n",
      "53/53 [==============================] - 8s 145ms/step - loss: 0.0015\n",
      "Epoch 21/100\n",
      "53/53 [==============================] - 8s 152ms/step - loss: 0.0015\n",
      "Epoch 22/100\n",
      "53/53 [==============================] - 8s 149ms/step - loss: 0.0017\n",
      "Epoch 23/100\n",
      "53/53 [==============================] - 8s 151ms/step - loss: 0.0014\n",
      "Epoch 24/100\n",
      "53/53 [==============================] - 8s 150ms/step - loss: 0.0015\n",
      "Epoch 25/100\n",
      "53/53 [==============================] - 8s 147ms/step - loss: 0.0013\n",
      "Epoch 26/100\n",
      "53/53 [==============================] - 8s 148ms/step - loss: 0.0014\n",
      "Epoch 27/100\n",
      "53/53 [==============================] - 8s 148ms/step - loss: 0.0016\n",
      "Epoch 28/100\n",
      "53/53 [==============================] - 8s 147ms/step - loss: 0.0015\n",
      "Epoch 29/100\n",
      "53/53 [==============================] - 8s 149ms/step - loss: 0.0016\n",
      "Epoch 30/100\n",
      "53/53 [==============================] - 8s 147ms/step - loss: 0.0013\n",
      "Epoch 31/100\n",
      "53/53 [==============================] - 8s 149ms/step - loss: 0.0012\n",
      "Epoch 32/100\n",
      "53/53 [==============================] - 8s 146ms/step - loss: 0.0011\n",
      "Epoch 33/100\n",
      "53/53 [==============================] - 7s 136ms/step - loss: 0.0013\n",
      "Epoch 34/100\n",
      "53/53 [==============================] - 7s 131ms/step - loss: 0.0012\n",
      "Epoch 35/100\n",
      "53/53 [==============================] - 8s 150ms/step - loss: 0.0011\n",
      "Epoch 36/100\n",
      "53/53 [==============================] - 8s 146ms/step - loss: 0.0012\n",
      "Epoch 37/100\n",
      "53/53 [==============================] - 8s 147ms/step - loss: 0.0011\n",
      "Epoch 38/100\n",
      "53/53 [==============================] - 8s 148ms/step - loss: 0.0011\n",
      "Epoch 39/100\n",
      "53/53 [==============================] - 8s 146ms/step - loss: 0.0011\n",
      "Epoch 40/100\n",
      "53/53 [==============================] - 8s 148ms/step - loss: 9.8369e-04\n",
      "Epoch 41/100\n",
      "53/53 [==============================] - 8s 146ms/step - loss: 0.0014\n",
      "Epoch 42/100\n",
      "53/53 [==============================] - 8s 145ms/step - loss: 0.0012\n",
      "Epoch 43/100\n",
      "53/53 [==============================] - 8s 145ms/step - loss: 0.0011\n",
      "Epoch 44/100\n",
      "53/53 [==============================] - 8s 148ms/step - loss: 0.0011\n",
      "Epoch 45/100\n",
      "53/53 [==============================] - 8s 151ms/step - loss: 0.0010\n",
      "Epoch 46/100\n",
      "53/53 [==============================] - 8s 147ms/step - loss: 0.0010\n",
      "Epoch 47/100\n",
      "53/53 [==============================] - 8s 147ms/step - loss: 0.0010\n",
      "Epoch 48/100\n",
      "53/53 [==============================] - 8s 147ms/step - loss: 0.0011\n",
      "Epoch 49/100\n",
      "53/53 [==============================] - 8s 147ms/step - loss: 0.0011\n",
      "Epoch 50/100\n",
      "53/53 [==============================] - 8s 146ms/step - loss: 0.0010\n",
      "Epoch 51/100\n",
      "53/53 [==============================] - 8s 149ms/step - loss: 9.9032e-04\n",
      "Epoch 52/100\n",
      "53/53 [==============================] - 8s 146ms/step - loss: 0.0013\n",
      "Epoch 53/100\n",
      "53/53 [==============================] - 8s 148ms/step - loss: 9.6423e-04\n",
      "Epoch 54/100\n",
      "53/53 [==============================] - 8s 146ms/step - loss: 9.2576e-04\n",
      "Epoch 55/100\n",
      "53/53 [==============================] - 8s 152ms/step - loss: 0.0011\n",
      "Epoch 56/100\n",
      "53/53 [==============================] - 8s 149ms/step - loss: 9.5153e-04\n",
      "Epoch 57/100\n",
      "53/53 [==============================] - 8s 151ms/step - loss: 9.1389e-04\n",
      "Epoch 58/100\n",
      "53/53 [==============================] - 8s 152ms/step - loss: 9.3087e-04\n",
      "Epoch 59/100\n",
      "53/53 [==============================] - 8s 154ms/step - loss: 8.9124e-04\n",
      "Epoch 60/100\n",
      "53/53 [==============================] - 8s 148ms/step - loss: 0.0011\n",
      "Epoch 61/100\n",
      "53/53 [==============================] - 8s 151ms/step - loss: 9.2051e-04 1s - lo\n",
      "Epoch 62/100\n",
      "53/53 [==============================] - 8s 147ms/step - loss: 8.2820e-04\n",
      "Epoch 63/100\n",
      "53/53 [==============================] - 8s 149ms/step - loss: 9.1254e-04\n",
      "Epoch 64/100\n",
      "53/53 [==============================] - 8s 148ms/step - loss: 9.8598e-04\n",
      "Epoch 65/100\n",
      "53/53 [==============================] - 8s 150ms/step - loss: 8.9221e-04\n",
      "Epoch 66/100\n",
      "53/53 [==============================] - 8s 149ms/step - loss: 7.9018e-04\n",
      "Epoch 67/100\n",
      "53/53 [==============================] - 8s 150ms/step - loss: 9.1107e-04\n",
      "Epoch 68/100\n",
      "53/53 [==============================] - 8s 156ms/step - loss: 9.5676e-04\n",
      "Epoch 69/100\n",
      "53/53 [==============================] - 8s 155ms/step - loss: 9.3697e-04\n",
      "Epoch 70/100\n",
      "53/53 [==============================] - 8s 153ms/step - loss: 7.7512e-04\n",
      "Epoch 71/100\n",
      "53/53 [==============================] - 8s 149ms/step - loss: 8.6090e-04\n",
      "Epoch 72/100\n",
      "53/53 [==============================] - 8s 148ms/step - loss: 8.1480e-04\n",
      "Epoch 73/100\n",
      "53/53 [==============================] - 8s 149ms/step - loss: 9.0748e-04\n",
      "Epoch 74/100\n",
      "53/53 [==============================] - 8s 148ms/step - loss: 7.5897e-04\n",
      "Epoch 75/100\n",
      "53/53 [==============================] - 8s 150ms/step - loss: 8.7809e-04\n",
      "Epoch 76/100\n",
      "53/53 [==============================] - 8s 146ms/step - loss: 9.1265e-04\n",
      "Epoch 77/100\n",
      "53/53 [==============================] - 8s 152ms/step - loss: 0.0010\n",
      "Epoch 78/100\n",
      "53/53 [==============================] - 8s 145ms/step - loss: 8.1407e-04\n",
      "Epoch 79/100\n",
      "53/53 [==============================] - 8s 146ms/step - loss: 0.0011\n",
      "Epoch 80/100\n",
      "53/53 [==============================] - 8s 148ms/step - loss: 8.4806e-04\n",
      "Epoch 81/100\n",
      "53/53 [==============================] - 8s 155ms/step - loss: 8.1424e-04\n",
      "Epoch 82/100\n",
      "53/53 [==============================] - 8s 151ms/step - loss: 8.0968e-04\n",
      "Epoch 83/100\n",
      "53/53 [==============================] - 8s 156ms/step - loss: 7.6104e-04\n",
      "Epoch 84/100\n",
      "53/53 [==============================] - 8s 150ms/step - loss: 8.0567e-04\n",
      "Epoch 85/100\n",
      "53/53 [==============================] - 8s 147ms/step - loss: 8.3312e-04\n",
      "Epoch 86/100\n",
      "53/53 [==============================] - 8s 147ms/step - loss: 8.6942e-04\n",
      "Epoch 87/100\n",
      "53/53 [==============================] - 8s 149ms/step - loss: 7.0976e-04\n",
      "Epoch 88/100\n",
      "53/53 [==============================] - 8s 149ms/step - loss: 8.1565e-04\n",
      "Epoch 89/100\n",
      "53/53 [==============================] - 8s 150ms/step - loss: 7.8372e-04\n",
      "Epoch 90/100\n",
      "53/53 [==============================] - 8s 149ms/step - loss: 8.4838e-04\n",
      "Epoch 91/100\n",
      "53/53 [==============================] - 7s 140ms/step - loss: 7.0068e-04\n",
      "Epoch 92/100\n",
      "53/53 [==============================] - 8s 149ms/step - loss: 8.2867e-04\n",
      "Epoch 93/100\n",
      "53/53 [==============================] - 8s 148ms/step - loss: 7.7376e-04\n",
      "Epoch 94/100\n",
      "53/53 [==============================] - 8s 147ms/step - loss: 8.4689e-04\n",
      "Epoch 95/100\n",
      "53/53 [==============================] - 8s 148ms/step - loss: 8.0865e-04\n",
      "Epoch 96/100\n",
      "53/53 [==============================] - 8s 146ms/step - loss: 8.3630e-04\n",
      "Epoch 97/100\n",
      "53/53 [==============================] - 8s 154ms/step - loss: 7.6148e-04\n",
      "Epoch 98/100\n",
      "53/53 [==============================] - 8s 152ms/step - loss: 8.1410e-04\n",
      "Epoch 99/100\n",
      "53/53 [==============================] - 8s 155ms/step - loss: 7.9592e-04\n",
      "Epoch 100/100\n",
      "53/53 [==============================] - 8s 155ms/step - loss: 8.3962e-04\n"
     ]
    },
    {
     "data": {
      "text/plain": [
       "<tensorflow.python.keras.callbacks.History at 0x1ede86e8f98>"
      ]
     },
     "execution_count": 44,
     "metadata": {},
     "output_type": "execute_result"
    }
   ],
   "source": [
    "# Adding the output layer\n",
    "regressor.add(Dense(units = 1))\n",
    "\n",
    "# Compiling the RNN\n",
    "regressor.compile(optimizer = 'adam', loss = 'mean_squared_error')\n",
    "\n",
    "# Fitting the RNN to the Training set\n",
    "regressor.fit(X_train, y_train, epochs = 100, batch_size = 32)"
   ]
  },
  {
   "cell_type": "code",
   "execution_count": 45,
   "metadata": {},
   "outputs": [
    {
     "name": "stdout",
     "output_type": "stream",
     "text": [
      "1/1 [==============================] - 0s 978us/step - loss: 0.0000e+00\n"
     ]
    },
    {
     "data": {
      "text/plain": [
       "0.0"
      ]
     },
     "execution_count": 45,
     "metadata": {},
     "output_type": "execute_result"
    }
   ],
   "source": [
    "# Evaluate the model\n",
    "regressor.evaluate(X_test)"
   ]
  },
  {
   "cell_type": "code",
   "execution_count": 53,
   "metadata": {},
   "outputs": [],
   "source": [
    "# Getting the predicted stock price \n",
    "dataset_total = pd.concat((df_1['Open'], df_2['Open']), axis = 0)\n",
    "inputs = dataset_total[len(dataset_total) - len(df_2) - 60:].values\n",
    "inputs = inputs.reshape(-1,1)\n",
    "inputs = sc.transform(inputs)\n",
    "X_test = []\n",
    "for i in range(60, 746):\n",
    "    X_test.append(inputs[i-60:i, 0])\n",
    "X_test = np.array(X_test)\n",
    "X_test = np.reshape(X_test, (X_test.shape[0], X_test.shape[1], 1))\n",
    "predicted_stock_price = regressor.predict(X_test)\n",
    "predicted_stock_price = sc.inverse_transform(predicted_stock_price)"
   ]
  },
  {
   "cell_type": "code",
   "execution_count": 54,
   "metadata": {},
   "outputs": [
    {
     "data": {
      "image/png": "[encoded data removed]",
      "text/plain": [
       "<Figure size 432x288 with 1 Axes>"
      ]
     },
     "metadata": {
      "needs_background": "light"
     },
     "output_type": "display_data"
    }
   ],
   "source": [
    "plt.plot(real_stock_price, color = 'red', label = 'Real Stock Price')\n",
    "plt.plot(predicted_stock_price, color = 'blue', label = 'Predicted Stock Price')\n",
    "plt.title('Stock Price Prediction')\n",
    "plt.xlabel('Time')\n",
    "plt.ylabel(' Stock Price')\n",
    "plt.legend()\n",
    "plt.show()"
   ]
  },
  {
   "cell_type": "code",
   "execution_count": null,
   "metadata": {},
   "outputs": [],
   "source": [
    "#Please double check the code. "
   ]
  }
 ],
 "metadata": {
  "kernelspec": {
   "display_name": "Python [conda env:pyvizenv]",
   "language": "python",
   "name": "conda-env-pyvizenv-py"
  },
  "language_info": {
   "codemirror_mode": {
    "name": "ipython",
    "version": 3
   },
   "file_extension": ".py",
   "mimetype": "text/x-python",
   "name": "python",
   "nbconvert_exporter": "python",
   "pygments_lexer": "ipython3",
   "version": "3.7.1"
  }
 },
 "nbformat": 4,
 "nbformat_minor": 4
}
